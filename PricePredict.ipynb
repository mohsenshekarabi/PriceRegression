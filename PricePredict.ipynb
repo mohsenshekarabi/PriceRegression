{
  "nbformat": 4,
  "nbformat_minor": 0,
  "metadata": {
    "colab": {
      "provenance": [],
      "authorship_tag": "ABX9TyNKnbEF6ncaRSvCDc3A/r81",
      "include_colab_link": true
    },
    "kernelspec": {
      "name": "python3",
      "display_name": "Python 3"
    },
    "language_info": {
      "name": "python"
    }
  },
  "cells": [
    {
      "cell_type": "markdown",
      "metadata": {
        "id": "view-in-github",
        "colab_type": "text"
      },
      "source": [
        "<a href=\"https://colab.research.google.com/github/mohsenshekarabi/PriceRegression/blob/main/PricePredict.ipynb\" target=\"_parent\"><img src=\"https://colab.research.google.com/assets/colab-badge.svg\" alt=\"Open In Colab\"/></a>"
      ]
    },
    {
      "cell_type": "code",
      "source": [
        "import torch\n",
        "import torch.nn as nn\n",
        "import pandas as pd\n",
        "device = \"cuda:0\" if torch.cuda.is_available() else \"cpu\"\n",
        "device"
      ],
      "metadata": {
        "id": "yXojbT2YFt5S",
        "colab": {
          "base_uri": "https://localhost:8080/",
          "height": 36
        },
        "outputId": "d637b072-6f31-433d-825d-144e8e393ebd"
      },
      "execution_count": 102,
      "outputs": [
        {
          "output_type": "execute_result",
          "data": {
            "text/plain": [
              "'cpu'"
            ],
            "application/vnd.google.colaboratory.intrinsic+json": {
              "type": "string"
            }
          },
          "metadata": {},
          "execution_count": 102
        }
      ]
    },
    {
      "cell_type": "code",
      "source": [
        "Dataset_Train = pd.read_csv(\"https://raw.githubusercontent.com/mohsenshekarabi/PriceRegression/main/train.csv\")\n",
        "Dataset_Test = pd.read_csv(\"https://raw.githubusercontent.com/mohsenshekarabi/PriceRegression/main/test.csv\")\n",
        "\n",
        "Dataset_Train.set_index(\"Date\", inplace = True)\n",
        "Dataset_Test.set_index(\"Date\", inplace = True)\n",
        "\n"
      ],
      "metadata": {
        "id": "Cc6ydfUDFokU"
      },
      "execution_count": 103,
      "outputs": []
    },
    {
      "cell_type": "code",
      "source": [
        "from copy import deepcopy as dc\n",
        "\n",
        "LookBack = 7\n",
        "\n",
        "def PrepareDataForLSTM(DF, Col=\"Close\",LookBack=7):\n",
        "\n",
        "  DF = dc(DF)\n",
        "\n",
        "  Cols = list(Dataset_Train.columns)\n",
        "  Cols.remove(Col)\n",
        "  UnlessCols = Cols\n",
        "\n",
        "\n",
        "  DF = DF.drop(columns=UnlessCols)\n",
        "\n",
        "\n",
        "  for i in range(1, LookBack + 1):\n",
        "    DF[Col+f\"(t-{i})\"] = DF[Col].shift(i)\n",
        "\n",
        "  DF.dropna(inplace=True)\n",
        "\n",
        "  return DF\n",
        "\n",
        "\n",
        "ShiftedDF_Train = PrepareDataForLSTM(Dataset_Train)\n",
        "\n",
        "ShiftedDF_Test = PrepareDataForLSTM(Dataset_Test)\n",
        "\n"
      ],
      "metadata": {
        "id": "UN6n1OPZ4yq8"
      },
      "execution_count": 104,
      "outputs": []
    },
    {
      "cell_type": "code",
      "source": [
        "from sklearn.preprocessing import MinMaxScaler\n",
        "\n",
        "\n",
        "Scaler = MinMaxScaler(feature_range=(-1, 1))\n",
        "#return Scaler.fit_transform(Data)\n",
        "\n",
        "\n",
        "ShiftedDF_Train = Scaler.fit_transform(ShiftedDF_Train)\n",
        "ShiftedDF_Test = Scaler.fit_transform(ShiftedDF_Test)\n",
        "\n",
        "\n"
      ],
      "metadata": {
        "id": "fB9TLJHeJzLU"
      },
      "execution_count": 106,
      "outputs": []
    },
    {
      "cell_type": "code",
      "source": [
        "x_train = ShiftedDF_Train[:, 1:]\n",
        "y_train = ShiftedDF_Train[:, 0]\n",
        "\n",
        "x_test = ShiftedDF_Test[:, 1:]\n",
        "y_test = ShiftedDF_Test[:, 0]\n",
        "\n",
        "x_train = x_train.reshape((-1, LookBack, 1))\n",
        "x_test = x_test.reshape((-1, LookBack, 1))\n",
        "\n",
        "y_train = y_train.reshape((-1, 1))\n",
        "y_test = y_test.reshape((-1, 1))\n",
        "\n",
        "x_train = torch.tensor(x_train).float()\n",
        "y_train = torch.tensor(y_train).float()\n",
        "x_test = torch.tensor(x_test).float()\n",
        "y_test = torch.tensor(y_test).float()\n",
        "\n",
        "x_train.shape, y_train.shape, x_test.shape, y_test.shape\n",
        "\n"
      ],
      "metadata": {
        "colab": {
          "base_uri": "https://localhost:8080/"
        },
        "id": "W8aYg6vvNwFn",
        "outputId": "6214a6df-fdb0-4a37-d81f-55bb2c8b6445"
      },
      "execution_count": 107,
      "outputs": [
        {
          "output_type": "execute_result",
          "data": {
            "text/plain": [
              "(torch.Size([1493, 7, 1]),\n",
              " torch.Size([1493, 1]),\n",
              " torch.Size([23, 7, 1]),\n",
              " torch.Size([23, 1]))"
            ]
          },
          "metadata": {},
          "execution_count": 107
        }
      ]
    },
    {
      "cell_type": "code",
      "source": [
        "from torch.utils.data import Dataset\n",
        "\n",
        "class TimeSeriesDataSet(Dataset):\n",
        "  def __init__(self, x, y):\n",
        "    self.x = x\n",
        "    self.y = y\n",
        "\n",
        "  def __len__(self):\n",
        "    return len(self.x)\n",
        "\n",
        "  def __getitem__(self, i):\n",
        "    return self.x[i], self.y[i]\n",
        "\n",
        "train_dataset = TimeSeriesDataSet(x_train, y_train)\n",
        "test_dataset = TimeSeriesDataSet(x_test, y_test)\n",
        "\n"
      ],
      "metadata": {
        "id": "FUcmIjmkK-Mv"
      },
      "execution_count": 108,
      "outputs": []
    },
    {
      "cell_type": "code",
      "source": [
        "from torch.utils.data import DataLoader\n",
        "\n",
        "batch_size = 16\n",
        "\n",
        "train_loader = DataLoader(train_dataset, batch_size=batch_size, shuffle=True)\n",
        "test_loader = DataLoader(test_dataset, batch_size=batch_size, shuffle=False)"
      ],
      "metadata": {
        "id": "PF5fZyVRF7k8"
      },
      "execution_count": 109,
      "outputs": []
    },
    {
      "cell_type": "code",
      "source": [
        "for _, batch in enumerate(train_loader):\n",
        "  x_batch, y_batch = batch[0].to(device), batch[1].to(device)\n",
        "  break"
      ],
      "metadata": {
        "id": "gZEY0g0bUP5w"
      },
      "execution_count": 110,
      "outputs": []
    },
    {
      "cell_type": "code",
      "source": [
        "class LSTM(nn.Module):\n",
        "    def __init__(self, input_dim, hidden_dim, num_layers):\n",
        "        super(LSTM, self).__init__()\n",
        "        self.hidden_dim = hidden_dim\n",
        "\n",
        "        self.num_layers = num_layers\n",
        "\n",
        "        self.lstm = nn.LSTM(input_dim, hidden_dim, num_layers, batch_first=True)\n",
        "\n",
        "        self.fc = nn.Linear(hidden_dim, 1)\n",
        "\n",
        "    def forward(self, x):\n",
        "        batch_size = x.size(0)\n",
        "\n",
        "        h0 = torch.zeros(self.num_layers, batch_size, self.hidden_dim).to(device)\n",
        "        c0 = torch.zeros(self.num_layers, batch_size, self.hidden_dim).to(device)\n",
        "\n",
        "        out, _ = self.lstm(x, (h0, c0))\n",
        "        out = self.fc(out[:, -1, :])\n",
        "        return out\n",
        "\n",
        "model = LSTM(1, 4, 1)\n",
        "\n",
        "model.to(device)\n",
        "\n",
        "model"
      ],
      "metadata": {
        "colab": {
          "base_uri": "https://localhost:8080/"
        },
        "id": "wxVdNYHhaG9w",
        "outputId": "a6102992-62e7-45fd-bb19-0237f45e1aad"
      },
      "execution_count": 111,
      "outputs": [
        {
          "output_type": "execute_result",
          "data": {
            "text/plain": [
              "LSTM(\n",
              "  (lstm): LSTM(1, 4, batch_first=True)\n",
              "  (fc): Linear(in_features=4, out_features=1, bias=True)\n",
              ")"
            ]
          },
          "metadata": {},
          "execution_count": 111
        }
      ]
    },
    {
      "cell_type": "code",
      "source": [
        "def train_one_epoch():\n",
        "\n",
        "    model.train(True)\n",
        "\n",
        "    running_loss = 8.0\n",
        "\n",
        "\n",
        "    for batch_index, batch in enumerate(train_loader):\n",
        "        x_batch, y_batch = batch[0].to(device), batch[1].to(device)\n",
        "\n",
        "        outputs = model(x_batch)\n",
        "\n",
        "        loss = loss_function(outputs, y_batch)\n",
        "        running_loss += loss\n",
        "\n",
        "        optimizer.zero_grad()\n",
        "        loss.backward()\n",
        "        optimizer.step()\n",
        "\n",
        "        if batch_index % 100 == 99:\n",
        "            ave_last_loss = running_loss / 100 # loss per batch\n",
        "            print('  batch {} loss: {}'.format(batch_index + 1, ave_last_loss))\n",
        "\n",
        "            running_loss = 0.\n"
      ],
      "metadata": {
        "id": "BxyDrM9sdazr"
      },
      "execution_count": 112,
      "outputs": []
    },
    {
      "cell_type": "code",
      "source": [
        "def validate_one_epoch():\n",
        "  model.train(False)\n",
        "  running_loss = 0.0\n",
        "\n",
        "  for batch_index, batch in enumerate(train_loader):\n",
        "      x_batch, y_batch = batch[0].to(device), batch[1].to(device)\n",
        "\n",
        "      with torch.no_grad():\n",
        "        output = model(x_batch)\n",
        "        loss = loss_function(output, y_batch)\n",
        "        running_loss += loss\n",
        "\n",
        "  avg_loss_across_batches = running_loss / len(test_loader)\n",
        "\n",
        "  print('Batch{0}, Loss {1:.3f}'.format(batch_index + 1, avg_loss_across_batches))\n",
        "  print(\"#################################################\")"
      ],
      "metadata": {
        "id": "ap6uvHv8gy1k"
      },
      "execution_count": 113,
      "outputs": []
    },
    {
      "cell_type": "code",
      "source": [
        "learning_rate = 0.001\n",
        "num_epochs = 100\n",
        "loss_function = nn.MSELoss()\n",
        "\n",
        "optimizer = torch.optim.Adam(model.parameters(), lr=learning_rate)\n",
        "\n",
        "for epoch in range(num_epochs):\n",
        "  train_one_epoch()\n",
        "  validate_one_epoch()\n"
      ],
      "metadata": {
        "colab": {
          "base_uri": "https://localhost:8080/"
        },
        "id": "qrs26lBocPb8",
        "outputId": "32172fee-0a86-4b83-aa0a-860e1cd3ea8d"
      },
      "execution_count": 114,
      "outputs": [
        {
          "output_type": "stream",
          "name": "stdout",
          "text": [
            "Batch94, Loss 39.193\n",
            "#################################################\n",
            "Batch94, Loss 18.455\n",
            "#################################################\n",
            "Batch94, Loss 8.954\n",
            "#################################################\n",
            "Batch94, Loss 4.194\n",
            "#################################################\n",
            "Batch94, Loss 1.874\n",
            "#################################################\n",
            "Batch94, Loss 0.915\n",
            "#################################################\n",
            "Batch94, Loss 0.575\n",
            "#################################################\n",
            "Batch94, Loss 0.454\n",
            "#################################################\n",
            "Batch94, Loss 0.393\n",
            "#################################################\n",
            "Batch94, Loss 0.352\n",
            "#################################################\n",
            "Batch94, Loss 0.315\n",
            "#################################################\n",
            "Batch94, Loss 0.286\n",
            "#################################################\n",
            "Batch94, Loss 0.262\n",
            "#################################################\n",
            "Batch94, Loss 0.239\n",
            "#################################################\n",
            "Batch94, Loss 0.222\n",
            "#################################################\n",
            "Batch94, Loss 0.211\n",
            "#################################################\n",
            "Batch94, Loss 0.194\n",
            "#################################################\n",
            "Batch94, Loss 0.183\n",
            "#################################################\n",
            "Batch94, Loss 0.171\n",
            "#################################################\n",
            "Batch94, Loss 0.162\n",
            "#################################################\n",
            "Batch94, Loss 0.156\n",
            "#################################################\n",
            "Batch94, Loss 0.150\n",
            "#################################################\n",
            "Batch94, Loss 0.142\n",
            "#################################################\n",
            "Batch94, Loss 0.138\n",
            "#################################################\n",
            "Batch94, Loss 0.133\n",
            "#################################################\n",
            "Batch94, Loss 0.128\n",
            "#################################################\n",
            "Batch94, Loss 0.124\n",
            "#################################################\n",
            "Batch94, Loss 0.122\n",
            "#################################################\n",
            "Batch94, Loss 0.117\n",
            "#################################################\n",
            "Batch94, Loss 0.115\n",
            "#################################################\n",
            "Batch94, Loss 0.112\n",
            "#################################################\n",
            "Batch94, Loss 0.110\n",
            "#################################################\n",
            "Batch94, Loss 0.108\n",
            "#################################################\n",
            "Batch94, Loss 0.106\n",
            "#################################################\n",
            "Batch94, Loss 0.103\n",
            "#################################################\n",
            "Batch94, Loss 0.103\n",
            "#################################################\n",
            "Batch94, Loss 0.104\n",
            "#################################################\n",
            "Batch94, Loss 0.098\n",
            "#################################################\n",
            "Batch94, Loss 0.098\n",
            "#################################################\n",
            "Batch94, Loss 0.096\n",
            "#################################################\n",
            "Batch94, Loss 0.097\n",
            "#################################################\n",
            "Batch94, Loss 0.095\n",
            "#################################################\n",
            "Batch94, Loss 0.093\n",
            "#################################################\n",
            "Batch94, Loss 0.092\n",
            "#################################################\n",
            "Batch94, Loss 0.092\n",
            "#################################################\n",
            "Batch94, Loss 0.096\n",
            "#################################################\n",
            "Batch94, Loss 0.089\n",
            "#################################################\n",
            "Batch94, Loss 0.093\n",
            "#################################################\n",
            "Batch94, Loss 0.089\n",
            "#################################################\n",
            "Batch94, Loss 0.087\n",
            "#################################################\n",
            "Batch94, Loss 0.086\n",
            "#################################################\n",
            "Batch94, Loss 0.086\n",
            "#################################################\n",
            "Batch94, Loss 0.088\n",
            "#################################################\n",
            "Batch94, Loss 0.082\n",
            "#################################################\n",
            "Batch94, Loss 0.082\n",
            "#################################################\n",
            "Batch94, Loss 0.082\n",
            "#################################################\n",
            "Batch94, Loss 0.083\n",
            "#################################################\n",
            "Batch94, Loss 0.097\n",
            "#################################################\n",
            "Batch94, Loss 0.080\n",
            "#################################################\n",
            "Batch94, Loss 0.079\n",
            "#################################################\n",
            "Batch94, Loss 0.077\n",
            "#################################################\n",
            "Batch94, Loss 0.077\n",
            "#################################################\n",
            "Batch94, Loss 0.074\n",
            "#################################################\n",
            "Batch94, Loss 0.074\n",
            "#################################################\n",
            "Batch94, Loss 0.072\n",
            "#################################################\n",
            "Batch94, Loss 0.074\n",
            "#################################################\n",
            "Batch94, Loss 0.073\n",
            "#################################################\n",
            "Batch94, Loss 0.071\n",
            "#################################################\n",
            "Batch94, Loss 0.069\n",
            "#################################################\n",
            "Batch94, Loss 0.068\n",
            "#################################################\n",
            "Batch94, Loss 0.071\n",
            "#################################################\n",
            "Batch94, Loss 0.068\n",
            "#################################################\n",
            "Batch94, Loss 0.066\n",
            "#################################################\n",
            "Batch94, Loss 0.073\n",
            "#################################################\n",
            "Batch94, Loss 0.067\n",
            "#################################################\n",
            "Batch94, Loss 0.066\n",
            "#################################################\n",
            "Batch94, Loss 0.063\n",
            "#################################################\n",
            "Batch94, Loss 0.064\n",
            "#################################################\n",
            "Batch94, Loss 0.067\n",
            "#################################################\n",
            "Batch94, Loss 0.067\n",
            "#################################################\n",
            "Batch94, Loss 0.071\n",
            "#################################################\n",
            "Batch94, Loss 0.061\n",
            "#################################################\n",
            "Batch94, Loss 0.061\n",
            "#################################################\n",
            "Batch94, Loss 0.061\n",
            "#################################################\n",
            "Batch94, Loss 0.062\n",
            "#################################################\n",
            "Batch94, Loss 0.061\n",
            "#################################################\n",
            "Batch94, Loss 0.062\n",
            "#################################################\n",
            "Batch94, Loss 0.056\n",
            "#################################################\n",
            "Batch94, Loss 0.054\n",
            "#################################################\n",
            "Batch94, Loss 0.055\n",
            "#################################################\n",
            "Batch94, Loss 0.058\n",
            "#################################################\n",
            "Batch94, Loss 0.055\n",
            "#################################################\n",
            "Batch94, Loss 0.051\n",
            "#################################################\n",
            "Batch94, Loss 0.050\n",
            "#################################################\n",
            "Batch94, Loss 0.057\n",
            "#################################################\n",
            "Batch94, Loss 0.052\n",
            "#################################################\n",
            "Batch94, Loss 0.054\n",
            "#################################################\n",
            "Batch94, Loss 0.052\n",
            "#################################################\n",
            "Batch94, Loss 0.048\n",
            "#################################################\n",
            "Batch94, Loss 0.046\n",
            "#################################################\n"
          ]
        }
      ]
    },
    {
      "cell_type": "code",
      "source": [
        "import matplotlib.pyplot as plt\n",
        "\n",
        "with torch.no_grad():\n",
        "  predicted = model(x_train.to(device)).to('cpu').numpy()\n",
        "\n",
        "plt.plot(y_train, label='Actual Close')\n",
        "plt.plot(predicted, label='Predicted Close')\n",
        "plt.legend()\n",
        "plt.show()\n"
      ],
      "metadata": {
        "colab": {
          "base_uri": "https://localhost:8080/",
          "height": 430
        },
        "id": "g3EzHp85nrdF",
        "outputId": "97b9886e-7d6d-4906-cc14-2c366413716e"
      },
      "execution_count": 115,
      "outputs": [
        {
          "output_type": "display_data",
          "data": {
            "text/plain": [
              "<Figure size 640x480 with 1 Axes>"
            ],
            "image/png": "[encoded data removed]"
          },
          "metadata": {}
        }
      ]
    },
    {
      "cell_type": "code",
      "source": [
        "from sklearn.metrics import mean_squared_error\n",
        "\n",
        "rmse = mean_squared_error(y_train, predicted, squared=False)\n",
        "rmse"
      ],
      "metadata": {
        "colab": {
          "base_uri": "https://localhost:8080/"
        },
        "id": "d49k_Hw39B65",
        "outputId": "e6a3e73d-13a5-4764-86d2-fded907de248"
      },
      "execution_count": 118,
      "outputs": [
        {
          "output_type": "execute_result",
          "data": {
            "text/plain": [
              "0.031291697"
            ]
          },
          "metadata": {},
          "execution_count": 118
        }
      ]
    }
  ]
}